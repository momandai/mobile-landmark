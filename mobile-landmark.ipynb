{
 "cells": [
  {
   "cell_type": "code",
   "execution_count": 382,
   "metadata": {},
   "outputs": [],
   "source": [
    "import os\n",
    "import torch\n",
    "import pandas as pd\n",
    "import math\n",
    "import skimage\n",
    "import random\n",
    "from PIL import Image\n",
    "from skimage import io, transform\n",
    "import numpy as np\n",
    "import matplotlib.pyplot as plt\n",
    "from torch.utils.data import Dataset, DataLoader\n",
    "from torchvision import transforms, utils\n",
    "import xml.dom.minidom as xmldom"
   ]
  },
  {
   "cell_type": "code",
   "execution_count": 393,
   "metadata": {},
   "outputs": [],
   "source": [
    "class Ldk_300W_Dataset(Dataset):\n",
    "    def __init__(self, xmlfile, root_dir, transform=None):\n",
    "        document = xmldom.parse(xmlfile)\n",
    "        annos = document.getElementsByTagName(\"image\")\n",
    "        self.records = []\n",
    "        for anno in annos:\n",
    "            parts = anno.getElementsByTagName(\"part\")\n",
    "            landmark = []\n",
    "            for part in parts:\n",
    "                landmark.append(part.getAttribute(\"x\"))\n",
    "                landmark.append(part.getAttribute(\"y\"))\n",
    "            record = [anno.getAttribute(\"file\"), landmark]\n",
    "            self.records.append(record)\n",
    "        self.root_dir = root_dir\n",
    "        self.transform = transform\n",
    "    def __len__(self):\n",
    "        return len(self.records)\n",
    "    def __getitem__(self, idx):\n",
    "        img_name = os.path.join(self.root_dir,\n",
    "                                self.records[idx][0])\n",
    "        image = io.imread(img_name)\n",
    "        image = np.float64(image)/256\n",
    "        landmarks = map(float, self.records[idx][1])\n",
    "        landmarks = np.asarray(landmarks).reshape(-1, 2)\n",
    "        sample = {'image': image, 'landmarks': landmarks}\n",
    "        if self.transform:\n",
    "            sample = self.transform(sample)\n",
    "        return sample\n",
    "    def show(self,idx):\n",
    "        record = self[idx]\n",
    "        plt.scatter(record['landmarks'][:,0], record['landmarks'][:,1], s=10, marker='.', c='r')\n",
    "        plt.imshow(record['image'])\n",
    "#transform\n",
    "class CropByLDK(object):\n",
    "    def __init__(self, scale):\n",
    "        assert isinstance(scale, float)\n",
    "        if isinstance(scale, float):\n",
    "            self.scale = scale\n",
    "        else:\n",
    "            self.scale = 0.2\n",
    "            \n",
    "    def __call__(self, sample):\n",
    "        image, landmarks = sample['image'], sample['landmarks']\n",
    "        h, w = image.shape[:2]\n",
    "        left, right = landmarks[:,0].min(), landmarks[:,0].max()\n",
    "        top, bottom = landmarks[:,1].min(), landmarks[:,1].max()\n",
    "        height, width = bottom - top, right - left\n",
    "        l = max(height, width) * self.scale\n",
    "        middle = [left/2 + right/2, top/2 + bottom/2]\n",
    "        left, right = int(middle[0] - l/2), int(middle[0] + l/2)\n",
    "        top, bottom = int(middle[1] - l/2), int(middle[1] + l/2)\n",
    "        image = image[top:bottom, left:right]\n",
    "        landmarks = landmarks - [left, top]\n",
    "        return {'image': image, 'landmarks':landmarks}\n",
    "    \n",
    "class Rescale(object):\n",
    "    def __init__(self, size):\n",
    "        assert isinstance(size, tuple)\n",
    "        self.size = size\n",
    "        \n",
    "    def __call__(self, sample):\n",
    "        image, landmarks = sample['image'], sample['landmarks']\n",
    "        h, w = image.shape[:2]\n",
    "        if len(image.shape) == 2:\n",
    "            image = image.reshape(h, w, 1)\n",
    "            image = np.concatenate((image,image,image),axis=2) \n",
    "        image = transform.resize(image, (self.size[0], self.size[1]))\n",
    "        landmarks = landmarks * [self.size[0], self.size[1]] / [w, h]\n",
    "        return {'image': image, 'landmarks':landmarks}\n",
    "    \n",
    "class Rotate(object):\n",
    "    def __init__(self, angle):\n",
    "        self.angle = angle\n",
    "    def __call__(self, sample):\n",
    "        image, landmarks = sample['image'], sample['landmarks']\n",
    "        image = transform.rotate(image, self.angle)\n",
    "        left, right = min(landmarks[:,0]), max(landmarks[:,0])\n",
    "        top, bottom = min(landmarks[:,1]), max(landmarks[:,1])\n",
    "        angle = math.radians(-self.angle)\n",
    "        rotate_matrix = [[math.cos(angle), -math.sin(angle)]\n",
    "                          ,[math.sin(angle), math.cos(angle)]]\n",
    "        middle = [left/2 + right/2, top/2 + bottom/2]\n",
    "        landmarks_r = (landmarks - middle).transpose((1,0))\n",
    "        landmarks_r = np.matmul(rotate_matrix, landmarks_r)\n",
    "        landmarks_r = landmarks_r.transpose((1,0))\n",
    "        landmarks = landmarks_r + middle\n",
    "        \n",
    "        return {'image': image, 'landmarks': landmarks}\n",
    "    \n",
    "class Flip(object):\n",
    "    def __call__(self, sample):\n",
    "        image, landmarks = sample['image'], sample['landmarks']\n",
    "        h, w = image.shape[:2]\n",
    "        image = Image.fromarray(np.uint8(image * 256))\n",
    "        image = image.transpose(Image.FLIP_LEFT_RIGHT)\n",
    "        image = np.asarray(image)\n",
    "        image = np.float64(image)/256\n",
    "        landmarks[:, 0] = w - landmarks[:, 0]\n",
    "        return {'image' : image, 'landmarks': landmarks}\n",
    "\n",
    "class RandomCrop(object):\n",
    "    def __call__(self, sample):\n",
    "        image, landmarks = sample['image'], sample['landmarks']\n",
    "        r = image.shape[0]\n",
    "        size = r * random.uniform(0.9, 1.0)\n",
    "        print r, size\n",
    "        x0 = random.randint(0, r - 1)\n",
    "        y0 = random.randint(0, r - 1)\n",
    "        x1 = x0 + int(size)\n",
    "        y1 = y0 + int(size)\n",
    "        image = image[y0:y1, x0:x1]\n",
    "        landmarks = landmarks - [x0, y0]\n",
    "        return {'image' : image, 'landmarks': landmarks}\n",
    "        \n",
    "class Gnoise(object):\n",
    "    def __call__(self, sample):\n",
    "        image, landmarks = sample['image'], sample['landmarks']\n",
    "        image = skimage.util.random_noise(image,mode='gaussian',seed=None,clip=True)\n",
    "        return {'image': image, 'landmarks': landmarks}\n",
    "    \n",
    "class ToTensor(object):\n",
    "    def __call__(self, sample):\n",
    "        image, landmarks = sample['image'], sample['landmarks']\n",
    "        image = image.transpose((2, 0, 1))\n",
    "        return {'image': torch.from_numpy(image), 'landmarks': torch.from_numpy(landmarks)}"
   ]
  },
  {
   "cell_type": "code",
   "execution_count": 397,
   "metadata": {},
   "outputs": [],
   "source": [
    "path_300w = '/home/whale/dataset/Landmark/300W'\n",
    "path_train = os.path.join(path_300w, \"train.xml\")\n",
    "path_test = os.path.join(path_300w, \"test.xml\")\n",
    "path_all = os.path.join(path_300w, \"all.xml\")\n",
    "composed = transforms.Compose([CropByLDK(1.4), Flip(), Rotate(30), Gnoise(), RandomCrop(), Rescale((64,64)), ToTensor()])\n",
    "#inall = Ldk_300W_Dataset(path_all,path_300w)\n",
    "#train = Ldk_300W_Dataset(path_train, path_300w)\n",
    "test = Ldk_300W_Dataset(path_test, path_300w, composed)"
   ]
  },
  {
   "cell_type": "code",
   "execution_count": 398,
   "metadata": {},
   "outputs": [],
   "source": [
    "dataloader = DataLoader(test, batch_size=4, shuffle=True, num_workers=4)"
   ]
  },
  {
   "cell_type": "code",
   "execution_count": 399,
   "metadata": {
    "scrolled": true
   },
   "outputs": [
    {
     "name": "stdout",
     "output_type": "stream",
     "text": [
      "310 291.868896873\n"
     ]
    },
    {
     "name": "stderr",
     "output_type": "stream",
     "text": [
      "/home/whale/.local/lib/python2.7/site-packages/skimage/transform/_warps.py:105: UserWarning: The default mode, 'constant', will be changed to 'reflect' in skimage 0.15.\n",
      "  warn(\"The default mode, 'constant', will be changed to 'reflect' in \"\n",
      "/home/whale/.local/lib/python2.7/site-packages/skimage/transform/_warps.py:110: UserWarning: Anti-aliasing will be enabled by default in skimage 0.15 to avoid aliasing artifacts when down-sampling images.\n",
      "  warn(\"Anti-aliasing will be enabled by default in skimage 0.15 to \"\n"
     ]
    },
    {
     "name": "stdout",
     "output_type": "stream",
     "text": [
      "963 874.22297815\n"
     ]
    },
    {
     "name": "stderr",
     "output_type": "stream",
     "text": [
      "/home/whale/.local/lib/python2.7/site-packages/skimage/transform/_warps.py:105: UserWarning: The default mode, 'constant', will be changed to 'reflect' in skimage 0.15.\n",
      "  warn(\"The default mode, 'constant', will be changed to 'reflect' in \"\n",
      "/home/whale/.local/lib/python2.7/site-packages/skimage/transform/_warps.py:110: UserWarning: Anti-aliasing will be enabled by default in skimage 0.15 to avoid aliasing artifacts when down-sampling images.\n",
      "  warn(\"Anti-aliasing will be enabled by default in skimage 0.15 to \"\n"
     ]
    },
    {
     "name": "stdout",
     "output_type": "stream",
     "text": [
      "266 264.362369908\n",
      "442 417.762058638\n",
      "1342 1328.12360566\n",
      "252 236.489319891\n",
      "186 179.887954725\n",
      "250 229.99996759\n",
      "1472 1426.40537943\n"
     ]
    },
    {
     "name": "stderr",
     "output_type": "stream",
     "text": [
      "/home/whale/.local/lib/python2.7/site-packages/skimage/transform/_warps.py:105: UserWarning: The default mode, 'constant', will be changed to 'reflect' in skimage 0.15.\n",
      "  warn(\"The default mode, 'constant', will be changed to 'reflect' in \"\n"
     ]
    },
    {
     "name": "stdout",
     "output_type": "stream",
     "text": [
      "(0, torch.Size([4, 3, 64, 64]), torch.Size([4, 68, 2]))\n",
      "478 474.061002965\n"
     ]
    },
    {
     "data": {
      "image/png": "[encoded data removed]",
      "text/plain": [
       "<Figure size 432x288 with 1 Axes>"
      ]
     },
     "metadata": {
      "needs_background": "light"
     },
     "output_type": "display_data"
    },
    {
     "name": "stderr",
     "output_type": "stream",
     "text": [
      "/home/whale/.local/lib/python2.7/site-packages/skimage/transform/_warps.py:110: UserWarning: Anti-aliasing will be enabled by default in skimage 0.15 to avoid aliasing artifacts when down-sampling images.\n",
      "  warn(\"Anti-aliasing will be enabled by default in skimage 0.15 to \"\n"
     ]
    },
    {
     "name": "stdout",
     "output_type": "stream",
     "text": [
      "1579 1567.11598992\n"
     ]
    },
    {
     "name": "stderr",
     "output_type": "stream",
     "text": [
      "/home/whale/.local/lib/python2.7/site-packages/skimage/transform/_warps.py:105: UserWarning: The default mode, 'constant', will be changed to 'reflect' in skimage 0.15.\n",
      "  warn(\"The default mode, 'constant', will be changed to 'reflect' in \"\n",
      "/home/whale/.local/lib/python2.7/site-packages/skimage/transform/_warps.py:110: UserWarning: Anti-aliasing will be enabled by default in skimage 0.15 to avoid aliasing artifacts when down-sampling images.\n",
      "  warn(\"Anti-aliasing will be enabled by default in skimage 0.15 to \"\n"
     ]
    },
    {
     "name": "stdout",
     "output_type": "stream",
     "text": [
      "144 129.868827603\n",
      "178 162.964268651\n",
      "165 157.944060328\n",
      "530 509.217313838\n",
      "297 288.77609929\n",
      "864 785.533114585\n",
      "1100 1061.79626224\n",
      "403 386.463116011\n",
      "1893 1748.41046454\n",
      "385 382.394780435\n"
     ]
    }
   ],
   "source": [
    "def show_landmarks_batch(sample_batched):\n",
    "    \"\"\"Show image with landmarks for a batch of samples.\"\"\"\n",
    "    images_batch, landmarks_batch = \\\n",
    "            sample_batched['image'], sample_batched['landmarks']\n",
    "    batch_size = len(images_batch)\n",
    "    im_size = images_batch.size(2)\n",
    "\n",
    "    grid = utils.make_grid(images_batch)\n",
    "    plt.imshow(grid.numpy().transpose((1, 2, 0)))\n",
    "\n",
    "    for i in range(batch_size):\n",
    "        plt.scatter(landmarks_batch[i, :, 0].numpy() + i * (im_size+2),\n",
    "                    landmarks_batch[i, :, 1].numpy(),\n",
    "                    s=10, marker='.', c='r')\n",
    "\n",
    "        plt.title('Batch from dataloader')\n",
    "\n",
    "for i_batch, sample_batched in enumerate(dataloader):\n",
    "    print(i_batch, sample_batched['image'].size(),\n",
    "          sample_batched['landmarks'].size())\n",
    "\n",
    "    # observe 4th batch and stop.\n",
    "    if i_batch == 0:\n",
    "        plt.figure()\n",
    "        show_landmarks_batch(sample_batched)\n",
    "        plt.axis('off')\n",
    "        plt.ioff()\n",
    "        plt.show()\n",
    "        break"
   ]
  },
  {
   "cell_type": "code",
   "execution_count": null,
   "metadata": {},
   "outputs": [],
   "source": []
  },
  {
   "cell_type": "code",
   "execution_count": null,
   "metadata": {},
   "outputs": [],
   "source": []
  },
  {
   "cell_type": "code",
   "execution_count": null,
   "metadata": {},
   "outputs": [],
   "source": []
  },
  {
   "cell_type": "code",
   "execution_count": null,
   "metadata": {},
   "outputs": [],
   "source": []
  }
 ],
 "metadata": {
  "kernelspec": {
   "display_name": "Python 2",
   "language": "python",
   "name": "python2"
  },
  "language_info": {
   "codemirror_mode": {
    "name": "ipython",
    "version": 2
   },
   "file_extension": ".py",
   "mimetype": "text/x-python",
   "name": "python",
   "nbconvert_exporter": "python",
   "pygments_lexer": "ipython2",
   "version": "2.7.12"
  }
 },
 "nbformat": 4,
 "nbformat_minor": 2
}
