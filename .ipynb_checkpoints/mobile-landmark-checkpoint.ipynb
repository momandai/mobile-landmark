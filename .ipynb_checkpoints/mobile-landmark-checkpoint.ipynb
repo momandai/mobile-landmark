{
 "cells": [
  {
   "cell_type": "code",
   "execution_count": 1,
   "metadata": {},
   "outputs": [],
   "source": [
    "from transform import *\n",
    "from data import *\n",
    "from model import *\n",
    "from tools import *\n",
    "import torch.optim as optim\n",
    "from tensorboardX import SummaryWriter"
   ]
  },
  {
   "cell_type": "code",
   "execution_count": 2,
   "metadata": {},
   "outputs": [],
   "source": [
    "path_300w = '/home/whale/dataset/Landmark/300W'\n",
    "path_300w_lp = '/home/whale/dataset/Landmark/300W_LP'\n",
    "path_train = os.path.join(path_300w, \"train.xml\")\n",
    "path_test = os.path.join(path_300w, \"test.xml\")\n",
    "path_all = os.path.join(path_300w, \"all.xml\")\n",
    "path_lp = os.path.join(path_300w_lp, \"all.txt\")\n",
    "composed = transforms.Compose([CropByLDK(1.4),\n",
    "                               Flip(),\n",
    "                               #Rotate(30),\n",
    "                               #Gnoise(),\n",
    "                               RandomCrop(),\n",
    "                               Rescale((64,64)),\n",
    "                               ToTensor(),\n",
    "                               Normalize()\n",
    "                               ])\n"
   ]
  },
  {
   "cell_type": "code",
   "execution_count": null,
   "metadata": {
    "scrolled": true
   },
   "outputs": [
    {
     "name": "stdout",
     "output_type": "stream",
     "text": [
      "16 24 2 6\n",
      "24 24 1 6\n",
      "24 32 2 6\n",
      "32 32 1 6\n",
      "32 64 2 6\n",
      "64 64 1 6\n"
     ]
    },
    {
     "name": "stderr",
     "output_type": "stream",
     "text": [
      "/home/whale/.local/lib/python2.7/site-packages/skimage/transform/_warps.py:105: UserWarning: The default mode, 'constant', will be changed to 'reflect' in skimage 0.15.\n",
      "  warn(\"The default mode, 'constant', will be changed to 'reflect' in \"\n",
      "/home/whale/.local/lib/python2.7/site-packages/skimage/transform/_warps.py:105: UserWarning: The default mode, 'constant', will be changed to 'reflect' in skimage 0.15.\n",
      "  warn(\"The default mode, 'constant', will be changed to 'reflect' in \"\n",
      "/home/whale/.local/lib/python2.7/site-packages/skimage/transform/_warps.py:105: UserWarning: The default mode, 'constant', will be changed to 'reflect' in skimage 0.15.\n",
      "  warn(\"The default mode, 'constant', will be changed to 'reflect' in \"\n",
      "/home/whale/.local/lib/python2.7/site-packages/skimage/transform/_warps.py:105: UserWarning: The default mode, 'constant', will be changed to 'reflect' in skimage 0.15.\n",
      "  warn(\"The default mode, 'constant', will be changed to 'reflect' in \"\n",
      "/home/whale/.local/lib/python2.7/site-packages/skimage/transform/_warps.py:110: UserWarning: Anti-aliasing will be enabled by default in skimage 0.15 to avoid aliasing artifacts when down-sampling images.\n",
      "  warn(\"Anti-aliasing will be enabled by default in skimage 0.15 to \"\n",
      "/home/whale/.local/lib/python2.7/site-packages/skimage/transform/_warps.py:110: UserWarning: Anti-aliasing will be enabled by default in skimage 0.15 to avoid aliasing artifacts when down-sampling images.\n",
      "  warn(\"Anti-aliasing will be enabled by default in skimage 0.15 to \"\n",
      "/home/whale/.local/lib/python2.7/site-packages/skimage/transform/_warps.py:110: UserWarning: Anti-aliasing will be enabled by default in skimage 0.15 to avoid aliasing artifacts when down-sampling images.\n",
      "  warn(\"Anti-aliasing will be enabled by default in skimage 0.15 to \"\n",
      "/home/whale/.local/lib/python2.7/site-packages/skimage/transform/_warps.py:110: UserWarning: Anti-aliasing will be enabled by default in skimage 0.15 to avoid aliasing artifacts when down-sampling images.\n",
      "  warn(\"Anti-aliasing will be enabled by default in skimage 0.15 to \"\n"
     ]
    },
    {
     "name": "stdout",
     "output_type": "stream",
     "text": [
      "epoch:0 iteration:499 loss:0.0281402034517\n",
      "epoch:0 iteration:999 loss:0.0144993225811\n",
      "epoch:0 iteration:1499 loss:0.0109695884585\n",
      "epoch:0 iteration:1999 loss:0.00965719281789\n",
      "epoch:0 iteration:2499 loss:0.00850140198972\n",
      "epoch:0 iteration:2999 loss:0.00771363027534\n"
     ]
    }
   ],
   "source": [
    "device = torch.device(\"cuda:0\" if torch.cuda.is_available() else \"cpu\")\n",
    "writer = SummaryWriter(log_dir='logs')\n",
    "\n",
    "trainset = Ldk_300W_LP_Dataset(path_test, path_300w_lp, composed)\n",
    "testset =  Ldk_300W_Dataset(path_test, path_300w, composed)\n",
    "\n",
    "net= MobileNetV2() \n",
    "criterion = torch.nn.MSELoss()\n",
    "optimizer = optim.Adam(net.parameters(), lr=0.0005)\n",
    "save_path = '/home/whale/workspace/torch/mobile-landmark/landmark.pth'\n",
    "\n",
    "epoch, batch_size = 30, 32\n",
    "\n",
    "\n",
    "train(device, net, criterion, optimizer, trainset, testset, epoch, batch_size, save_path, writer)"
   ]
  },
  {
   "cell_type": "code",
   "execution_count": null,
   "metadata": {},
   "outputs": [],
   "source": []
  }
 ],
 "metadata": {
  "kernelspec": {
   "display_name": "Python 2",
   "language": "python",
   "name": "python2"
  },
  "language_info": {
   "codemirror_mode": {
    "name": "ipython",
    "version": 2
   },
   "file_extension": ".py",
   "mimetype": "text/x-python",
   "name": "python",
   "nbconvert_exporter": "python",
   "pygments_lexer": "ipython2",
   "version": "2.7.12"
  }
 },
 "nbformat": 4,
 "nbformat_minor": 2
}
