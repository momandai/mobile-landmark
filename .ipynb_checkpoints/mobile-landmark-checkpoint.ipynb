{
 "cells": [
  {
   "cell_type": "code",
   "execution_count": 9,
   "metadata": {},
   "outputs": [],
   "source": [
    "from transform import *\n",
    "from data import *\n",
    "from model import *\n",
    "from tools import *\n",
    "import torch.optim as optim\n",
    "from tensorboardX import SummaryWriter\n",
    "\n",
    "import warnings\n",
    "warnings.filterwarnings(\"ignore\")"
   ]
  },
  {
   "cell_type": "code",
   "execution_count": 10,
   "metadata": {},
   "outputs": [],
   "source": [
    "root1 = '/home/whale/dataset/Landmark/300W'\n",
    "root2 = '/home/whale/dataset/Landmark/300W_LP'\n",
    "\n",
    "train1 = os.path.join(root1, \"train.xml\")\n",
    "test1 = os.path.join(root1, \"test.xml\")\n",
    "train2 = os.path.join(root2, \"train.txt\")\n",
    "test2 = os.path.join(root2, \"test.txt\")\n",
    "\n",
    "composed = transforms.Compose([CropByLDK(1.4), Flip(), RandomCrop(0.7), Rescale((64,64)), ToTensor(), Normalize()])"
   ]
  },
  {
   "cell_type": "code",
   "execution_count": 3,
   "metadata": {
    "scrolled": true
   },
   "outputs": [],
   "source": [
    "device = torch.device(\"cuda:0\" if torch.cuda.is_available() else \"cpu\")\n",
    "writer = SummaryWriter(log_dir='logs')\n",
    "\n",
    "\n",
    "trainset = Dataset_combined([Ldk_300W_LP_Dataset(train2, root2, composed)\n",
    "                            , Ldk_300W_Dataset(train1, root1, composed)])\n",
    "\n",
    "testset = Dataset_combined([Ldk_300W_LP_Dataset(test2, root2, composed)\n",
    "                            , Ldk_300W_Dataset(test1, root1, composed)])\n",
    "trainset[0]\n",
    "net= MobileNetV2() \n",
    "criterion = torch.nn.MSELoss()\n",
    "optimizer = optim.Adam(net.parameters(), lr=0.0005)\n",
    "save_path = '/home/whale/workspace/torch/mobile-landmark/landmark.pth'\n",
    "\n",
    "epoch, batch_size = 30, 32\n",
    "\n",
    "train(device, net, criterion, optimizer, trainset, testset, epoch, batch_size, save_path, writer)"
   ]
  },
  {
   "cell_type": "code",
   "execution_count": null,
   "metadata": {},
   "outputs": [],
   "source": []
  }
 ],
 "metadata": {
  "kernelspec": {
   "display_name": "Python 2",
   "language": "python",
   "name": "python2"
  },
  "language_info": {
   "codemirror_mode": {
    "name": "ipython",
    "version": 2
   },
   "file_extension": ".py",
   "mimetype": "text/x-python",
   "name": "python",
   "nbconvert_exporter": "python",
   "pygments_lexer": "ipython2",
   "version": "2.7.12"
  }
 },
 "nbformat": 4,
 "nbformat_minor": 2
}
